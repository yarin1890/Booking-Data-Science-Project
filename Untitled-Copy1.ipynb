{
 "cells": [
  {
   "cell_type": "code",
   "execution_count": 1,
   "id": "a7c8a929",
   "metadata": {},
   "outputs": [],
   "source": [
    "import requests\n",
    "from bs4 import BeautifulSoup\n",
    "import pandas as pd"
   ]
  },
  {
   "cell_type": "code",
   "execution_count": 2,
   "id": "8a6aeece",
   "metadata": {},
   "outputs": [],
   "source": [
    "#def scrape_yad2(url):\n",
    "  #  page = requests.get(url)\n",
    "  #  soup = BeautifulSoup(page.content, 'html.parser')\n",
    "#\n",
    "  #  houses = soup.find_all('div', class_='mainInfo')\n",
    "  #  house_data = []\n",
    "\n",
    "  #  for house in houses:\n",
    "  #      title = house.find('div', class_='description')\n",
    "   #     price = house.find('div', class_='price')\n",
    "   #     location = house.find('div', class_='location')\n",
    "#\n",
    "   #     if title and price and location:\n",
    "    #        house_dict = {\n",
    "    #            'title': title.text,\n",
    "    #            'price': price.text,\n",
    "    #            'location': location.text\n",
    "    #        }\n",
    "    #        house_data.append(house_dict)\n",
    "\n",
    "   # return house_data"
   ]
  },
  {
   "cell_type": "code",
   "execution_count": null,
   "id": "c60c5017",
   "metadata": {},
   "outputs": [],
   "source": []
  },
  {
   "cell_type": "code",
   "execution_count": null,
   "id": "5d3f99a4",
   "metadata": {},
   "outputs": [],
   "source": []
  },
  {
   "cell_type": "markdown",
   "id": "309ceae2",
   "metadata": {},
   "source": [
    "Testing markdown"
   ]
  },
  {
   "cell_type": "code",
   "execution_count": 3,
   "id": "35d1ed1f",
   "metadata": {},
   "outputs": [
    {
     "name": "stdout",
     "output_type": "stream",
     "text": [
      "Check if printing\n"
     ]
    }
   ],
   "source": [
    "print(\"Check if printing\")"
   ]
  },
  {
   "cell_type": "code",
   "execution_count": 6,
   "id": "653974f9",
   "metadata": {},
   "outputs": [
    {
     "name": "stdout",
     "output_type": "stream",
     "text": [
      "                 Name  Ratings\n",
      "position1     Renault      9.0\n",
      "position2      Duster      8.0\n",
      "position3      Maruti      5.0\n",
      "position4  Honda City      3.0\n"
     ]
    }
   ],
   "source": [
    "# assign data of lists.  \n",
    "data = {'Name':['Renault', 'Duster', 'Maruti', 'Honda City'], 'Ratings':[9.0, 8.0, 5.0, 3.0]}  \n",
    "  \n",
    "# Creates pandas DataFrame.  \n",
    "df = pd.DataFrame(data, index =['position1', 'position2', 'position3', 'position4'])  \n",
    "  \n",
    "# print the data  \n",
    "print(df)  "
   ]
  },
  {
   "cell_type": "code",
   "execution_count": null,
   "id": "b32fd7c1",
   "metadata": {},
   "outputs": [],
   "source": [
    "# CHECKING IF GITHUB AUTO RUNS IT EVEN WITHOUT RUNNING ON JUPYTER, as the above print was ran on jupyter before importing the .ipynb file!\n",
    "\n",
    "# assign data of lists.  \n",
    "data = {'Name':['Renault', 'Duster', 'Maruti', 'Honda City'], 'Ratings':[9.0, 8.0, 5.0, 3.0]}  \n",
    "  \n",
    "# Creates pandas DataFrame.  \n",
    "df = pd.DataFrame(data, index =['position1', 'position2', 'position3', 'position4'])  \n",
    "  \n",
    "# print the data  \n",
    "print(df)  "
   ]
  }
 ],
 "metadata": {
  "kernelspec": {
   "display_name": "Python 3 (ipykernel)",
   "language": "python",
   "name": "python3"
  },
  "language_info": {
   "codemirror_mode": {
    "name": "ipython",
    "version": 3
   },
   "file_extension": ".py",
   "mimetype": "text/x-python",
   "name": "python",
   "nbconvert_exporter": "python",
   "pygments_lexer": "ipython3",
   "version": "3.9.13"
  }
 },
 "nbformat": 4,
 "nbformat_minor": 5
}
